{
 "cells": [
  {
   "cell_type": "code",
   "execution_count": 1,
   "id": "1e47797d-37d9-4abc-9562-ebe69e4f68e7",
   "metadata": {},
   "outputs": [
    {
     "data": {
      "text/plain": [
       "65"
      ]
     },
     "execution_count": 1,
     "metadata": {},
     "output_type": "execute_result"
    }
   ],
   "source": [
    "ord('A')"
   ]
  },
  {
   "cell_type": "code",
   "execution_count": 2,
   "id": "85d60d92-23ea-448c-a169-5bf92c1c4422",
   "metadata": {},
   "outputs": [
    {
     "data": {
      "text/plain": [
       "97"
      ]
     },
     "execution_count": 2,
     "metadata": {},
     "output_type": "execute_result"
    }
   ],
   "source": [
    "ord('a')"
   ]
  },
  {
   "cell_type": "code",
   "execution_count": 3,
   "id": "154a2b6f-8c6d-4c1a-9915-bbfae94db211",
   "metadata": {},
   "outputs": [
    {
     "data": {
      "text/plain": [
       "1072"
      ]
     },
     "execution_count": 3,
     "metadata": {},
     "output_type": "execute_result"
    }
   ],
   "source": [
    "ord('а')"
   ]
  },
  {
   "cell_type": "code",
   "execution_count": 4,
   "id": "c3e21a05-234b-4273-ab0f-739c3ace2e96",
   "metadata": {},
   "outputs": [
    {
     "data": {
      "text/plain": [
       "1040"
      ]
     },
     "execution_count": 4,
     "metadata": {},
     "output_type": "execute_result"
    }
   ],
   "source": [
    "ord('А')"
   ]
  },
  {
   "cell_type": "code",
   "execution_count": 5,
   "id": "86ff7e98-4753-4694-a363-521daeefc7d8",
   "metadata": {},
   "outputs": [
    {
     "data": {
      "text/plain": [
       "4304"
      ]
     },
     "execution_count": 5,
     "metadata": {},
     "output_type": "execute_result"
    }
   ],
   "source": [
    "ord('ა')"
   ]
  },
  {
   "cell_type": "code",
   "execution_count": 2,
   "id": "5d27152a-7a7d-4e9b-9947-0979c02ad2da",
   "metadata": {},
   "outputs": [],
   "source": [
    "engToRus = ord('а') - ord('a')\n",
    "engToGeo = ord('ა') - ord('a')"
   ]
  },
  {
   "cell_type": "code",
   "execution_count": 7,
   "id": "7f87259c-7756-44de-826a-7a1625cf6548",
   "metadata": {},
   "outputs": [],
   "source": [
    "english = 'love'"
   ]
  },
  {
   "cell_type": "code",
   "execution_count": 19,
   "id": "30348f6f-7dd0-451d-8251-907f2095470a",
   "metadata": {},
   "outputs": [
    {
     "name": "stdout",
     "output_type": "stream",
     "text": [
      "лохд\n"
     ]
    }
   ],
   "source": [
    "print(''.join([chr(ord(c)+engToRus) for c in english]))"
   ]
  },
  {
   "cell_type": "code",
   "execution_count": 20,
   "id": "1c128692-0d9c-4d75-9078-7b01e9fe2ff8",
   "metadata": {},
   "outputs": [
    {
     "name": "stdout",
     "output_type": "stream",
     "text": [
      "მპქე\n"
     ]
    }
   ],
   "source": [
    "print(''.join([chr(ord(c)+engToGeo) for c in english]))"
   ]
  },
  {
   "cell_type": "code",
   "execution_count": 27,
   "id": "7f145fa5-fc13-4ed9-8d23-c13aa4fc916d",
   "metadata": {},
   "outputs": [
    {
     "name": "stdout",
     "output_type": "stream",
     "text": [
      "english:  aaa\n",
      "russian:  ааа\n",
      "georgian: ააა\n"
     ]
    }
   ],
   "source": [
    "english = 'aaa'\n",
    "print('english:  '+ english)\n",
    "print('russian:  '+''.join([chr(ord(c)+engToRus) for c in english]))\n",
    "print('georgian: '+''.join([chr(ord(c)+engToGeo) for c in english]))"
   ]
  },
  {
   "cell_type": "code",
   "execution_count": 5,
   "id": "79329cc9-542d-4dc9-8c03-736e200e1dd1",
   "metadata": {},
   "outputs": [
    {
     "name": "stdout",
     "output_type": "stream",
     "text": [
      "english:  papa\n",
      "russian:  папа\n",
      "georgian: ჟაჟა\n"
     ]
    }
   ],
   "source": [
    "english = 'papa'\n",
    "engToRus = ord('а') - ord('a')\n",
    "engToGeo = ord('ა') - ord('a')\n",
    "print('english:  '+ english)\n",
    "print('russian:  '+''.join([chr(ord(c)+engToRus) for c in english]))\n",
    "print('georgian: '+''.join([chr(ord(c)+engToGeo) for c in english]))"
   ]
  },
  {
   "cell_type": "code",
   "execution_count": 75,
   "id": "cd4c152a-1b8d-4db8-b0fd-0f501fce3ab4",
   "metadata": {},
   "outputs": [
    {
     "name": "stdout",
     "output_type": "stream",
     "text": [
      "english:  apple\n",
      "russian:  апплд\n",
      "georgian: აჟჟმე\n"
     ]
    }
   ],
   "source": [
    "english = 'apple'\n",
    "engToGeoLower = engToGeo = ord('ა') - ord('a')\n",
    "engToGeoUpper = engToGeo = ord('ა') - ord('A')\n",
    "georgian = ''\n",
    "for i in range(len(english)):\n",
    "    if english[i]>='a': \n",
    "        georgian = georgian + chr(ord(english[i]) + engToGeoLower)\n",
    "    else:\n",
    "        georgian = georgian + chr(ord(english[i]) + engToGeoUpper)\n",
    "russian = ''.join([chr(ord(c)+engToRus) for c in english])\n",
    "print('english:  '+ english)\n",
    "print('russian:  '+ russian)\n",
    "print('georgian: '+ georgian)"
   ]
  },
  {
   "cell_type": "code",
   "execution_count": 45,
   "id": "34635ba1-5c83-4a19-8076-8a2a66375543",
   "metadata": {
    "scrolled": true
   },
   "outputs": [
    {
     "name": "stdout",
     "output_type": "stream",
     "text": [
      "Collecting random-word\n",
      "  Downloading random_word-1.0.13-py3-none-any.whl.metadata (4.3 kB)\n",
      "Collecting autopep8<3.0.0,>=2.3.1 (from random-word)\n",
      "  Downloading autopep8-2.3.2-py2.py3-none-any.whl.metadata (16 kB)\n",
      "Collecting pytest<9.0.0,>=8.3.3 (from random-word)\n",
      "  Downloading pytest-8.3.4-py3-none-any.whl.metadata (7.5 kB)\n",
      "Requirement already satisfied: pyyaml<7.0.0,>=6.0.2 in /Library/Frameworks/Python.framework/Versions/3.13/lib/python3.13/site-packages (from random-word) (6.0.2)\n",
      "Requirement already satisfied: requests<3.0.0,>=2.32.3 in /Library/Frameworks/Python.framework/Versions/3.13/lib/python3.13/site-packages (from random-word) (2.32.3)\n",
      "Collecting pycodestyle>=2.12.0 (from autopep8<3.0.0,>=2.3.1->random-word)\n",
      "  Downloading pycodestyle-2.12.1-py2.py3-none-any.whl.metadata (4.5 kB)\n",
      "Collecting iniconfig (from pytest<9.0.0,>=8.3.3->random-word)\n",
      "  Downloading iniconfig-2.0.0-py3-none-any.whl.metadata (2.6 kB)\n",
      "Requirement already satisfied: packaging in /Library/Frameworks/Python.framework/Versions/3.13/lib/python3.13/site-packages (from pytest<9.0.0,>=8.3.3->random-word) (24.2)\n",
      "Collecting pluggy<2,>=1.5 (from pytest<9.0.0,>=8.3.3->random-word)\n",
      "  Downloading pluggy-1.5.0-py3-none-any.whl.metadata (4.8 kB)\n",
      "Requirement already satisfied: charset-normalizer<4,>=2 in /Library/Frameworks/Python.framework/Versions/3.13/lib/python3.13/site-packages (from requests<3.0.0,>=2.32.3->random-word) (3.4.1)\n",
      "Requirement already satisfied: idna<4,>=2.5 in /Library/Frameworks/Python.framework/Versions/3.13/lib/python3.13/site-packages (from requests<3.0.0,>=2.32.3->random-word) (3.10)\n",
      "Requirement already satisfied: urllib3<3,>=1.21.1 in /Library/Frameworks/Python.framework/Versions/3.13/lib/python3.13/site-packages (from requests<3.0.0,>=2.32.3->random-word) (2.3.0)\n",
      "Requirement already satisfied: certifi>=2017.4.17 in /Library/Frameworks/Python.framework/Versions/3.13/lib/python3.13/site-packages (from requests<3.0.0,>=2.32.3->random-word) (2024.12.14)\n",
      "Downloading random_word-1.0.13-py3-none-any.whl (1.2 MB)\n",
      "\u001b[2K   \u001b[90m━━━━━━━━━━━━━━━━━━━━━━━━━━━━━━━━━━━━━━━━\u001b[0m \u001b[32m1.2/1.2 MB\u001b[0m \u001b[31m1.7 MB/s\u001b[0m eta \u001b[36m0:00:00\u001b[0ma \u001b[36m0:00:01\u001b[0m\n",
      "Downloading autopep8-2.3.2-py2.py3-none-any.whl (45 kB)\n",
      "Downloading pytest-8.3.4-py3-none-any.whl (343 kB)\n",
      "Downloading pluggy-1.5.0-py3-none-any.whl (20 kB)\n",
      "Downloading pycodestyle-2.12.1-py2.py3-none-any.whl (31 kB)\n",
      "Downloading iniconfig-2.0.0-py3-none-any.whl (5.9 kB)\n",
      "Installing collected packages: pycodestyle, pluggy, iniconfig, pytest, autopep8, random-word\n",
      "Successfully installed autopep8-2.3.2 iniconfig-2.0.0 pluggy-1.5.0 pycodestyle-2.12.1 pytest-8.3.4 random-word-1.0.13\n",
      "\n",
      "\u001b[1m[\u001b[0m\u001b[34;49mnotice\u001b[0m\u001b[1;39;49m]\u001b[0m\u001b[39;49m A new release of pip is available: \u001b[0m\u001b[31;49m24.3.1\u001b[0m\u001b[39;49m -> \u001b[0m\u001b[32;49m25.0.1\u001b[0m\n",
      "\u001b[1m[\u001b[0m\u001b[34;49mnotice\u001b[0m\u001b[1;39;49m]\u001b[0m\u001b[39;49m To update, run: \u001b[0m\u001b[32;49mpip3 install --upgrade pip\u001b[0m\n",
      "Note: you may need to restart the kernel to use updated packages.\n"
     ]
    }
   ],
   "source": [
    "pip install random-word"
   ]
  },
  {
   "cell_type": "code",
   "execution_count": 55,
   "id": "3840da0b-10fc-4c54-939a-8a8b1f18688d",
   "metadata": {},
   "outputs": [
    {
     "name": "stdout",
     "output_type": "stream",
     "text": [
      "premortify\n"
     ]
    }
   ],
   "source": [
    "from random_word import RandomWords\n",
    "r = RandomWords()\n",
    "r.get_random_word()\n",
    "print(randSentense)"
   ]
  },
  {
   "cell_type": "code",
   "execution_count": 66,
   "id": "698ab571-b3dd-43b9-ad53-91eea5f8218d",
   "metadata": {},
   "outputs": [
    {
     "name": "stdout",
     "output_type": "stream",
     "text": [
      "english:  knouting\n",
      "russian:  кнофуинж\n",
      "georgian: ლოპფუიოზ\n"
     ]
    }
   ],
   "source": [
    "from random_word import RandomWords\n",
    "r = RandomWords()\n",
    "r = r.get_random_word()\n",
    "\n",
    "english = r\n",
    "engToGeoLower = engToGeo = ord('ა') - ord('a')\n",
    "engToGeoUpper = engToGeo = ord('ა') - ord('A')\n",
    "georgian = ''\n",
    "for i in range(len(english)):\n",
    "    if english[i]>='a': \n",
    "        georgian = georgian + chr(ord(english[i]) + engToGeoLower)\n",
    "    else:\n",
    "        georgian = georgian + chr(ord(english[i]) + engToGeoUpper)\n",
    "russian = ''.join([chr(ord(c)+engToRus) for c in english])\n",
    "print('english:  '+ english)\n",
    "print('russian:  '+ russian)\n",
    "print('georgian: '+ georgian)"
   ]
  },
  {
   "cell_type": "code",
   "execution_count": 76,
   "id": "8c912f8d-bc3e-48f3-96de-1d0ce7a85f49",
   "metadata": {},
   "outputs": [
    {
     "name": "stdout",
     "output_type": "stream",
     "text": [
      "english:  apple\n",
      "russian:  апплд\n",
      "georgian: აჟჟმე\n",
      "mix:      апჟle\n"
     ]
    }
   ],
   "source": [
    "import random\n",
    "\n",
    "mixture = ''\n",
    "\n",
    "for i in range(len(english)):\n",
    "    list = [english[i], russian[i], georgian[i]]\n",
    "    rand = random.choice(list)\n",
    "    mixture += rand\n",
    "print('english:  '+ english)\n",
    "print('russian:  '+ russian)\n",
    "print('georgian: '+ georgian)\n",
    "print('mix:      ' + mixture)"
   ]
  },
  {
   "cell_type": "code",
   "execution_count": null,
   "id": "3cb172cc-b0d4-43c8-bfa3-85ef170c7cf8",
   "metadata": {},
   "outputs": [],
   "source": []
  }
 ],
 "metadata": {
  "kernelspec": {
   "display_name": "Python 3 (ipykernel)",
   "language": "python",
   "name": "python3"
  },
  "language_info": {
   "codemirror_mode": {
    "name": "ipython",
    "version": 3
   },
   "file_extension": ".py",
   "mimetype": "text/x-python",
   "name": "python",
   "nbconvert_exporter": "python",
   "pygments_lexer": "ipython3",
   "version": "3.13.1"
  }
 },
 "nbformat": 4,
 "nbformat_minor": 5
}
